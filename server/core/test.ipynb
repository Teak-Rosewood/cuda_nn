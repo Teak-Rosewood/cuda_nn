{
 "cells": [
  {
   "cell_type": "code",
   "execution_count": 1,
   "metadata": {},
   "outputs": [
    {
     "ename": "ImportError",
     "evalue": "/home/blank/projects/cuda_nn/server/core/_arachne_nn.so: undefined symbol: _Z8CUDAsqrtIfEvPPT_RPPfSt4pairIiiE",
     "output_type": "error",
     "traceback": [
      "\u001b[0;31m---------------------------------------------------------------------------\u001b[0m",
      "\u001b[0;31mImportError\u001b[0m                               Traceback (most recent call last)",
      "Cell \u001b[0;32mIn[1], line 1\u001b[0m\n\u001b[0;32m----> 1\u001b[0m \u001b[38;5;28;01mfrom\u001b[39;00m \u001b[38;5;21;01marachne\u001b[39;00m \u001b[38;5;28;01mimport\u001b[39;00m FloatTensor, Linear, Pipeline, Relu, MSELoss, SGD, IntPair\n\u001b[1;32m      2\u001b[0m \u001b[38;5;28;01mimport\u001b[39;00m \u001b[38;5;21;01mmatplotlib\u001b[39;00m\u001b[38;5;21;01m.\u001b[39;00m\u001b[38;5;21;01mpyplot\u001b[39;00m \u001b[38;5;28;01mas\u001b[39;00m \u001b[38;5;21;01mplt\u001b[39;00m\n",
      "File \u001b[0;32m~/projects/cuda_nn/server/core/arachne.py:15\u001b[0m\n\u001b[1;32m     13\u001b[0m     \u001b[38;5;28;01mfrom\u001b[39;00m \u001b[38;5;21;01m.\u001b[39;00m \u001b[38;5;28;01mimport\u001b[39;00m _arachne_nn\n\u001b[1;32m     14\u001b[0m \u001b[38;5;28;01melse\u001b[39;00m:\n\u001b[0;32m---> 15\u001b[0m     \u001b[38;5;28;01mimport\u001b[39;00m \u001b[38;5;21;01m_arachne_nn\u001b[39;00m\n\u001b[1;32m     17\u001b[0m \u001b[38;5;28;01mtry\u001b[39;00m:\n\u001b[1;32m     18\u001b[0m     \u001b[38;5;28;01mimport\u001b[39;00m \u001b[38;5;21;01mbuiltins\u001b[39;00m \u001b[38;5;28;01mas\u001b[39;00m \u001b[38;5;21;01m__builtin__\u001b[39;00m\n",
      "\u001b[0;31mImportError\u001b[0m: /home/blank/projects/cuda_nn/server/core/_arachne_nn.so: undefined symbol: _Z8CUDAsqrtIfEvPPT_RPPfSt4pairIiiE"
     ]
    }
   ],
   "source": [
    "from arachne import FloatTensor, Linear, Pipeline, Relu, MSELoss, SGD, IntPair\n",
    "import matplotlib.pyplot as plt"
   ]
  },
  {
   "cell_type": "code",
   "execution_count": null,
   "metadata": {},
   "outputs": [],
   "source": [
    "dat = FloatTensor.readCSV(\"WineQT.csv\")\n",
    "\n",
    "# Read the CSV file\n",
    "dat = FloatTensor.readCSV(\"WineQT.csv\")\n",
    "\n",
    "# Normalize the data\n",
    "dat = dat.Normalize()\n",
    "\n",
    "# Split the data into input and output\n",
    "ind = [11]\n",
    "vals = dat.input_output_split(ind)\n",
    "input = vals[0]\n",
    "output = vals[1]\n",
    "\n",
    "# Split the input and output into rows\n",
    "input_list = input.row_split()\n",
    "output_list = output.row_split()\n",
    "print(len(input_list))\n",
    "# Create the pipeline\n",
    "myPipeline = Pipeline()\n",
    "size = IntPair(1,12)\n",
    "q = Linear(size,6)\n",
    "r = Relu(IntPair(1,6))\n",
    "d = Linear(IntPair(1,6),3)\n",
    "e = Relu(IntPair(1,3))\n",
    "f = Linear(IntPair(1,3),1)\n",
    "g = Relu(IntPair(1,1))\n",
    "# Add the layers to the pipeline\n",
    "myPipeline.add(q)\n",
    "myPipeline.add(r)\n",
    "myPipeline.add(d)\n",
    "myPipeline.add(e)\n",
    "myPipeline.add(f)\n",
    "myPipeline.add(g)\n",
    "\n",
    "# Print the pipeline\n",
    "myPipeline.printPipeline()\n",
    "\n",
    "# Create the optimizer\n",
    "optimizer = SGD(1e-4)\n",
    "\n",
    "a = MSELoss()"
   ]
  },
  {
   "cell_type": "code",
   "execution_count": null,
   "metadata": {},
   "outputs": [],
   "source": [
    "losses = []\n",
    "# Train the model\n",
    "for j in range(10):\n",
    "    for i in range(len(input_list)):\n",
    "        prediction = myPipeline.forwardFloat(input_list[i])\n",
    "\n",
    "        loss = (a.loss(prediction, output_list[i]))\n",
    "\n",
    "        myPipeline.backward(optimizer, a, output_list[i])\n",
    "    print(f\"Epoch {j+1}, Loss: {loss}\")\n",
    "    losses.append(loss)"
   ]
  },
  {
   "cell_type": "code",
   "execution_count": null,
   "metadata": {},
   "outputs": [],
   "source": [
    "plt.plot(losses)"
   ]
  },
  {
   "cell_type": "code",
   "execution_count": null,
   "metadata": {},
   "outputs": [],
   "source": [
    "del loss"
   ]
  },
  {
   "cell_type": "code",
   "execution_count": null,
   "metadata": {},
   "outputs": [],
   "source": []
  },
  {
   "cell_type": "code",
   "execution_count": null,
   "metadata": {},
   "outputs": [],
   "source": [
    "del q"
   ]
  },
  {
   "cell_type": "code",
   "execution_count": null,
   "metadata": {},
   "outputs": [],
   "source": []
  },
  {
   "cell_type": "code",
   "execution_count": null,
   "metadata": {},
   "outputs": [],
   "source": [
    "a = []\n",
    "print(a)\n",
    "del a\n",
    "a = []\n",
    "print(a)"
   ]
  },
  {
   "cell_type": "code",
   "execution_count": null,
   "metadata": {},
   "outputs": [],
   "source": []
  }
 ],
 "metadata": {
  "kernelspec": {
   "display_name": "Python 3",
   "language": "python",
   "name": "python3"
  },
  "language_info": {
   "codemirror_mode": {
    "name": "ipython",
    "version": 3
   },
   "file_extension": ".py",
   "mimetype": "text/x-python",
   "name": "python",
   "nbconvert_exporter": "python",
   "pygments_lexer": "ipython3",
   "version": "3.9.19"
  }
 },
 "nbformat": 4,
 "nbformat_minor": 2
}
