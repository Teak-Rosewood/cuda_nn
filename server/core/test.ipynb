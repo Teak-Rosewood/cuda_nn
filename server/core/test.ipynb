{
 "cells": [
  {
   "cell_type": "code",
   "execution_count": 1,
   "metadata": {},
   "outputs": [],
   "source": [
    "from arachne import FloatTensor, Linear, Pipeline, Relu, MSELoss, SGD, IntPair\n",
    "from arachne import F\n",
    "import matplotlib.pyplot as plt"
   ]
  },
  {
   "cell_type": "code",
   "execution_count": null,
   "metadata": {},
   "outputs": [
    {
     "ename": "",
     "evalue": "",
     "output_type": "error",
     "traceback": [
      "\u001b[1;31mThe Kernel crashed while executing code in the current cell or a previous cell. \n",
      "\u001b[1;31mPlease review the code in the cell(s) to identify a possible cause of the failure. \n",
      "\u001b[1;31mClick <a href='https://aka.ms/vscodeJupyterKernelCrash'>here</a> for more info. \n",
      "\u001b[1;31mView Jupyter <a href='command:jupyter.viewOutput'>log</a> for further details."
     ]
    }
   ],
   "source": [
    "\n",
    "dat = FloatTensor.readCSV(\"WineQT.csv\")"
   ]
  },
  {
   "cell_type": "code",
   "execution_count": null,
   "metadata": {},
   "outputs": [
    {
     "ename": "",
     "evalue": "",
     "output_type": "error",
     "traceback": [
      "\u001b[1;31mThe Kernel crashed while executing code in the current cell or a previous cell. \n",
      "\u001b[1;31mPlease review the code in the cell(s) to identify a possible cause of the failure. \n",
      "\u001b[1;31mClick <a href='https://aka.ms/vscodeJupyterKernelCrash'>here</a> for more info. \n",
      "\u001b[1;31mView Jupyter <a href='command:jupyter.viewOutput'>log</a> for further details."
     ]
    }
   ],
   "source": [
    "dat = FloatTensor.readCSV(\"WineQT.csv\")\n",
    "\n",
    "# Read the CSV file\n",
    "dat = FloatTensor.readCSV(\"WineQT.csv\")\n",
    "\n",
    "# Normalize the data\n",
    "dat = dat.Normalize()\n",
    "\n",
    "# Split the data into input and output\n",
    "ind = [11]\n",
    "vals = dat.input_output_split(ind)\n",
    "input = vals[0]\n",
    "output = vals[1]\n",
    "\n",
    "# Split the input and output into rows\n",
    "input_list = input.row_split()\n",
    "output_list = output.row_split()\n",
    "print(len(input_list))\n",
    "# Create the pipeline\n",
    "myPipeline = Pipeline()\n",
    "size = IntPair(1,12)\n",
    "q = Linear(size,6)\n",
    "r = Relu(IntPair(1,6))\n",
    "d = Linear(IntPair(1,6),3)\n",
    "e = Relu(IntPair(1,3))\n",
    "f = Linear(IntPair(1,3),1)\n",
    "g = Relu(IntPair(1,1))\n",
    "# Add the layers to the pipeline\n",
    "myPipeline.add(q)\n",
    "myPipeline.add(r)\n",
    "myPipeline.add(d)\n",
    "myPipeline.add(e)\n",
    "myPipeline.add(f)\n",
    "myPipeline.add(g)\n",
    "\n",
    "# Print the pipeline\n",
    "myPipeline.printPipeline()\n",
    "\n",
    "# Create the optimizer\n",
    "optimizer = SGD(1e-4)\n",
    "\n",
    "a = MSELoss()"
   ]
  },
  {
   "cell_type": "code",
   "execution_count": null,
   "metadata": {},
   "outputs": [],
   "source": [
    "losses = []\n",
    "# Train the model\n",
    "for j in range(10):\n",
    "    for i in range(len(input_list)):\n",
    "        prediction = myPipeline.forwardFloat(input_list[i])\n",
    "\n",
    "        loss = (a.loss(prediction, output_list[i]))\n",
    "\n",
    "        myPipeline.backward(optimizer, a, output_list[i])\n",
    "    print(f\"Epoch {j+1}, Loss: {loss}\")\n",
    "    losses.append(loss)"
   ]
  },
  {
   "cell_type": "code",
   "execution_count": null,
   "metadata": {},
   "outputs": [],
   "source": [
    "plt.plot(losses)"
   ]
  },
  {
   "cell_type": "code",
   "execution_count": null,
   "metadata": {},
   "outputs": [],
   "source": [
    "del loss"
   ]
  },
  {
   "cell_type": "code",
   "execution_count": null,
   "metadata": {},
   "outputs": [],
   "source": []
  },
  {
   "cell_type": "code",
   "execution_count": null,
   "metadata": {},
   "outputs": [],
   "source": [
    "del q"
   ]
  },
  {
   "cell_type": "code",
   "execution_count": null,
   "metadata": {},
   "outputs": [],
   "source": []
  },
  {
   "cell_type": "code",
   "execution_count": null,
   "metadata": {},
   "outputs": [],
   "source": [
    "a = []\n",
    "print(a)\n",
    "del a\n",
    "a = []\n",
    "print(a)"
   ]
  },
  {
   "cell_type": "code",
   "execution_count": null,
   "metadata": {},
   "outputs": [],
   "source": []
  }
 ],
 "metadata": {
  "kernelspec": {
   "display_name": "Python 3",
   "language": "python",
   "name": "python3"
  },
  "language_info": {
   "codemirror_mode": {
    "name": "ipython",
    "version": 3
   },
   "file_extension": ".py",
   "mimetype": "text/x-python",
   "name": "python",
   "nbconvert_exporter": "python",
   "pygments_lexer": "ipython3",
   "version": "3.9.19"
  }
 },
 "nbformat": 4,
 "nbformat_minor": 2
}
