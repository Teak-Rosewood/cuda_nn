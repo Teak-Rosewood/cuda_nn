{
 "cells": [
  {
   "cell_type": "code",
   "execution_count": 1,
   "metadata": {},
   "outputs": [],
   "source": [
    "from arachne import FloatTensor, Linear, Pipeline, Relu, MSELoss, SGD, IntPair, Adam\n",
    "import matplotlib.pyplot as plt"
   ]
  },
  {
   "cell_type": "code",
   "execution_count": 2,
   "metadata": {},
   "outputs": [],
   "source": [
    "# Read CSV File\n",
    "dat = FloatTensor.readCSV(\"WineQT.csv\")"
   ]
  },
  {
   "cell_type": "code",
   "execution_count": 3,
   "metadata": {},
   "outputs": [
    {
     "name": "stdout",
     "output_type": "stream",
     "text": [
      "1143\n",
      "Layer\t\tInput\t\tOutput\t\tParameter Count\n",
      "Linear 1:\t\t(1,12)\t\t(1,6)\t\t72\n",
      "relu 1:\t\t(1,6)\t\t(1,6)\t\t0\n",
      "Linear 2:\t\t(1,6)\t\t(1,3)\t\t18\n",
      "relu 2:\t\t(1,3)\t\t(1,3)\t\t0\n",
      "Linear 3:\t\t(1,3)\t\t(1,1)\t\t3\n",
      "relu 3:\t\t(1,1)\t\t(1,1)\t\t0\n",
      "Total Parameter Count:\t93\n"
     ]
    }
   ],
   "source": [
    "# Normalize the data\n",
    "# dat = dat.Normalize()\n",
    "\n",
    "# Split the data into input and output\n",
    "ind = [11]\n",
    "vals = dat.input_output_split(ind)\n",
    "input = vals[0]\n",
    "output = vals[1]\n",
    "\n",
    "# Split the input and output into rows\n",
    "input_list = input.row_split()\n",
    "output_list = output.row_split()\n",
    "\n",
    "print(len(input_list))\n",
    "# Create the pipeline\n",
    "myPipeline = Pipeline()\n",
    "size = IntPair(1,12)\n",
    "q = Linear(size,6)\n",
    "r = Relu(IntPair(1,6))\n",
    "d = Linear(IntPair(1,6),3)\n",
    "e = Relu(IntPair(1,3))\n",
    "f = Linear(IntPair(1,3),1)\n",
    "g = Relu(IntPair(1,1))\n",
    "# Add the layers to the pipeline\n",
    "myPipeline.add(q)\n",
    "myPipeline.add(r)\n",
    "myPipeline.add(d)\n",
    "myPipeline.add(e)\n",
    "myPipeline.add(f)\n",
    "myPipeline.add(g)\n",
    "\n",
    "# Print the pipeline\n",
    "myPipeline.printPipeline()\n",
    "\n",
    "# Create the optimizer\n",
    "optimizer = Adam(1e-4)\n",
    "\n",
    "a = MSELoss()"
   ]
  },
  {
   "cell_type": "code",
   "execution_count": 5,
   "metadata": {},
   "outputs": [
    {
     "name": "stdout",
     "output_type": "stream",
     "text": [
      "7.4,0.7,0,1.9,0.076,11,34,0.9978,3.51,0.56,9.4,0\n",
      "5\n"
     ]
    }
   ],
   "source": [
    "input_list[0].printTensor()\n",
    "output_list[0].printTensor()"
   ]
  },
  {
   "cell_type": "code",
   "execution_count": 4,
   "metadata": {},
   "outputs": [
    {
     "name": "stdout",
     "output_type": "stream",
     "text": [
      "Epoch 1, Loss: 0.0\n",
      "Epoch 2, Loss: 0.0\n",
      "Epoch 3, Loss: 0.0\n",
      "Epoch 4, Loss: 0.0\n",
      "Epoch 5, Loss: 0.0\n",
      "Epoch 6, Loss: 0.0\n",
      "Epoch 7, Loss: 0.0\n",
      "Epoch 8, Loss: 0.0\n",
      "Epoch 9, Loss: 0.0\n",
      "Epoch 10, Loss: 0.0\n"
     ]
    }
   ],
   "source": [
    "losses = []\n",
    "# Train the model\n",
    "for j in range(10):\n",
    "    loss = 0\n",
    "    for i in range(len(input_list)):\n",
    "        prediction = myPipeline.forwardFloat(input_list[i])\n",
    "        if i == 1:\n",
    "            prediction.printTensor()\n",
    "            output_list[i].printTensor()\n",
    "\n",
    "        loss =  loss + (a.loss(prediction, output_list[i]))\n",
    "\n",
    "        myPipeline.backward(optimizer, a, output_list[i])\n",
    "    print(f\"Epoch {j+1}, Loss: {loss}\")\n",
    "    losses.append(loss)"
   ]
  },
  {
   "cell_type": "code",
   "execution_count": null,
   "metadata": {},
   "outputs": [],
   "source": [
    "plt.plot(losses)"
   ]
  },
  {
   "cell_type": "code",
   "execution_count": null,
   "metadata": {},
   "outputs": [],
   "source": [
    "del loss"
   ]
  },
  {
   "cell_type": "code",
   "execution_count": null,
   "metadata": {},
   "outputs": [],
   "source": []
  },
  {
   "cell_type": "code",
   "execution_count": null,
   "metadata": {},
   "outputs": [],
   "source": [
    "del q"
   ]
  },
  {
   "cell_type": "code",
   "execution_count": null,
   "metadata": {},
   "outputs": [],
   "source": []
  },
  {
   "cell_type": "code",
   "execution_count": null,
   "metadata": {},
   "outputs": [],
   "source": [
    "a = []\n",
    "print(a)\n",
    "del a\n",
    "a = []\n",
    "print(a)"
   ]
  },
  {
   "cell_type": "code",
   "execution_count": null,
   "metadata": {},
   "outputs": [],
   "source": []
  }
 ],
 "metadata": {
  "kernelspec": {
   "display_name": "Python 3",
   "language": "python",
   "name": "python3"
  },
  "language_info": {
   "codemirror_mode": {
    "name": "ipython",
    "version": 3
   },
   "file_extension": ".py",
   "mimetype": "text/x-python",
   "name": "python",
   "nbconvert_exporter": "python",
   "pygments_lexer": "ipython3",
   "version": "3.9.19"
  }
 },
 "nbformat": 4,
 "nbformat_minor": 2
}
